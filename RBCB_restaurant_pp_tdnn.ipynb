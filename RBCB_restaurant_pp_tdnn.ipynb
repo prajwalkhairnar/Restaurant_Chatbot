{
  "nbformat": 4,
  "nbformat_minor": 0,
  "metadata": {
    "colab": {
      "name": "RBCB_restaurant_pp_tdnn.ipynb",
      "provenance": [],
      "collapsed_sections": [
        "4EXAtJpFVO21",
        "UPKGU3awWBhi",
        "-sy5fyxoDRHh",
        "K44tXb9AEeux"
      ]
    },
    "kernelspec": {
      "name": "python3",
      "display_name": "Python 3"
    }
  },
  "cells": [
    {
      "cell_type": "markdown",
      "metadata": {
        "id": "ge-IFA3Ozfw0",
        "colab_type": "text"
      },
      "source": [
        "#**ChatBot**\n",
        "\n",
        "#(Retrieval Based)\n",
        "\n",
        "\n",
        "\n",
        "\n",
        "\n",
        "---\n",
        "\n",
        "\n",
        "\n"
      ]
    },
    {
      "cell_type": "markdown",
      "metadata": {
        "id": "4EXAtJpFVO21",
        "colab_type": "text"
      },
      "source": [
        "###**Importing Necessary Libraries**\n"
      ]
    },
    {
      "cell_type": "code",
      "metadata": {
        "id": "GCSifK5sy2Ou",
        "colab_type": "code",
        "colab": {}
      },
      "source": [
        "import nltk\n",
        "from nltk.stem import WordNetLemmatizer\n",
        "import json\n",
        "import pickle"
      ],
      "execution_count": 1,
      "outputs": []
    },
    {
      "cell_type": "code",
      "metadata": {
        "id": "kRj2jPdfU1BJ",
        "colab_type": "code",
        "colab": {
          "base_uri": "https://localhost:8080/",
          "height": 33
        },
        "outputId": "5d59fce6-373c-4e58-a466-b27b6c0200fe"
      },
      "source": [
        "import numpy as np\n",
        "from keras.models import Sequential\n",
        "from keras.layers import Dense, Activation, Dropout\n",
        "from keras.optimizers import SGD\n",
        "import random"
      ],
      "execution_count": 2,
      "outputs": [
        {
          "output_type": "stream",
          "text": [
            "Using TensorFlow backend.\n"
          ],
          "name": "stderr"
        }
      ]
    },
    {
      "cell_type": "markdown",
      "metadata": {
        "id": "UPKGU3awWBhi",
        "colab_type": "text"
      },
      "source": [
        "###**Loading and Pre-Processing Data**"
      ]
    },
    {
      "cell_type": "code",
      "metadata": {
        "id": "sYnCRiL7Uv6O",
        "colab_type": "code",
        "colab": {}
      },
      "source": [
        "data = open('intents_restaurant.json').read()\n",
        "intents = json.loads(data)"
      ],
      "execution_count": 3,
      "outputs": []
    },
    {
      "cell_type": "code",
      "metadata": {
        "id": "-xe0znCYUqVA",
        "colab_type": "code",
        "colab": {}
      },
      "source": [
        "lemmatizer = WordNetLemmatizer()"
      ],
      "execution_count": 4,
      "outputs": []
    },
    {
      "cell_type": "code",
      "metadata": {
        "id": "ZQd4chw3Uv9V",
        "colab_type": "code",
        "colab": {}
      },
      "source": [
        "words=[]\n",
        "classes = []\n",
        "documents = []\n",
        "\n",
        "ignore_words = ['?', '!']"
      ],
      "execution_count": 5,
      "outputs": []
    },
    {
      "cell_type": "markdown",
      "metadata": {
        "id": "zCcKYXhp3oDo",
        "colab_type": "text"
      },
      "source": [
        "\n",
        "---\n",
        "Tokenize Each Word\n",
        "\n",
        "\n",
        "\n",
        "\n",
        "Add Documents in the Corpus\n",
        "\n",
        "Add Classes"
      ]
    },
    {
      "cell_type": "code",
      "metadata": {
        "id": "NRj1SbaWenzl",
        "colab_type": "code",
        "colab": {
          "base_uri": "https://localhost:8080/",
          "height": 66
        },
        "outputId": "273a35e7-d1e6-4280-b5d9-08ac83580fbd"
      },
      "source": [
        "import nltk\n",
        "nltk.download('punkt')"
      ],
      "execution_count": 6,
      "outputs": [
        {
          "output_type": "stream",
          "text": [
            "[nltk_data] Downloading package punkt to /root/nltk_data...\n",
            "[nltk_data]   Unzipping tokenizers/punkt.zip.\n"
          ],
          "name": "stdout"
        },
        {
          "output_type": "execute_result",
          "data": {
            "text/plain": [
              "True"
            ]
          },
          "metadata": {
            "tags": []
          },
          "execution_count": 6
        }
      ]
    },
    {
      "cell_type": "code",
      "metadata": {
        "id": "tNgEqshACBlz",
        "colab_type": "code",
        "colab": {
          "base_uri": "https://localhost:8080/",
          "height": 66
        },
        "outputId": "9cf88a26-105e-47b6-d86d-c49ef6782c8d"
      },
      "source": [
        "nltk.download('wordnet')"
      ],
      "execution_count": 7,
      "outputs": [
        {
          "output_type": "stream",
          "text": [
            "[nltk_data] Downloading package wordnet to /root/nltk_data...\n",
            "[nltk_data]   Unzipping corpora/wordnet.zip.\n"
          ],
          "name": "stdout"
        },
        {
          "output_type": "execute_result",
          "data": {
            "text/plain": [
              "True"
            ]
          },
          "metadata": {
            "tags": []
          },
          "execution_count": 7
        }
      ]
    },
    {
      "cell_type": "code",
      "metadata": {
        "id": "_cGJ9BuAUv2p",
        "colab_type": "code",
        "colab": {}
      },
      "source": [
        "for intent in intents['intents']:\n",
        "    for pattern in intent['patterns']:\n",
        "\n",
        "        #tokenize\n",
        "        w = nltk.word_tokenize(pattern)\n",
        "        words.extend(w)\n",
        "\n",
        "        #add documents in the corpus\n",
        "        documents.append((w, intent['tag']))\n",
        "\n",
        "        # add to classes list\n",
        "        if intent['tag'] not in classes:\n",
        "            classes.append(intent['tag'])\n"
      ],
      "execution_count": 8,
      "outputs": []
    },
    {
      "cell_type": "markdown",
      "metadata": {
        "id": "AfF21S4rBItb",
        "colab_type": "text"
      },
      "source": [
        "---\n",
        "Lemmaztize and lower each word and remove duplicates"
      ]
    },
    {
      "cell_type": "code",
      "metadata": {
        "id": "eQ0TYifHBiQJ",
        "colab_type": "code",
        "colab": {}
      },
      "source": [
        "words = [lemmatizer.lemmatize(w.lower()) for w in words if w not in ignore_words]\n",
        "words = sorted(list(set(words)))"
      ],
      "execution_count": 9,
      "outputs": []
    },
    {
      "cell_type": "markdown",
      "metadata": {
        "id": "7OfS0FE8BOyq",
        "colab_type": "text"
      },
      "source": [
        "---\n",
        "Sort classes"
      ]
    },
    {
      "cell_type": "code",
      "metadata": {
        "id": "B1J3l7HhCNUE",
        "colab_type": "code",
        "colab": {}
      },
      "source": [
        "classes = sorted(list(set(classes)))"
      ],
      "execution_count": 10,
      "outputs": []
    },
    {
      "cell_type": "markdown",
      "metadata": {
        "id": "q-eThDeJBSsa",
        "colab_type": "text"
      },
      "source": [
        "---\n",
        "Documents = combination between patterns and intents"
      ]
    },
    {
      "cell_type": "code",
      "metadata": {
        "id": "xfzDCmV1CRch",
        "colab_type": "code",
        "colab": {
          "base_uri": "https://localhost:8080/",
          "height": 33
        },
        "outputId": "4bd59646-8b49-4a4d-cb0a-836917222138"
      },
      "source": [
        "print (len(documents), \"documents\")"
      ],
      "execution_count": 11,
      "outputs": [
        {
          "output_type": "stream",
          "text": [
            "42 documents\n"
          ],
          "name": "stdout"
        }
      ]
    },
    {
      "cell_type": "markdown",
      "metadata": {
        "id": "p9QXvXRyBWYZ",
        "colab_type": "text"
      },
      "source": [
        "---\n",
        "\n",
        "Classes = intents"
      ]
    },
    {
      "cell_type": "code",
      "metadata": {
        "id": "bYki4lUnCUjz",
        "colab_type": "code",
        "colab": {
          "base_uri": "https://localhost:8080/",
          "height": 33
        },
        "outputId": "6b020926-b34d-4ffb-dfcb-e0cead52b02a"
      },
      "source": [
        "print (len(classes), \"classes\", classes)"
      ],
      "execution_count": 12,
      "outputs": [
        {
          "output_type": "stream",
          "text": [
            "8 classes ['food_preferences', 'food_preferences_search', 'foodtruck_search', 'goodbye', 'greeting', 'options', 'restaurant_search', 'thanks']\n"
          ],
          "name": "stdout"
        }
      ]
    },
    {
      "cell_type": "markdown",
      "metadata": {
        "id": "BC0QRM7BBeIQ",
        "colab_type": "text"
      },
      "source": [
        "---\n",
        "Words = all words, vocabulary"
      ]
    },
    {
      "cell_type": "code",
      "metadata": {
        "id": "Zorgm-r3CZaU",
        "colab_type": "code",
        "colab": {
          "base_uri": "https://localhost:8080/",
          "height": 53
        },
        "outputId": "980687d3-afdb-43c8-9c86-d3be7b585436"
      },
      "source": [
        "print (len(words), \"unique lemmatized words\", words)"
      ],
      "execution_count": 13,
      "outputs": [
        {
          "output_type": "stream",
          "text": [
            "77 unique lemmatized words [\"'s\", ',', 'a', 'anyone', 'are', 'awesome', 'be', 'book', 'by', 'bye', 'can', 'chatting', 'could', 'customer', 'data', 'day', 'detail', 'do', 'entry', 'find', 'food', 'foodtruck', 'foodtrucks', 'for', 'good', 'goodbye', 'hello', 'help', 'helpful', 'helping', 'hey', 'hi', 'history', 'hola', 'how', 'i', 'id', 'is', 'later', 'list', 'load', 'locate', 'log', 'looking', 'lookup', 'management', 'me', 'module', 'nearby', 'next', 'nice', 'of', 'offered', 'open', 'preference', 'provide', 'related', 'restaurant', 'result', 'search', 'searching', 'see', 'show', 'support', 'table', 'task', 'thank', 'thanks', 'that', 'there', 'till', 'time', 'to', 'up', 'want', 'what', 'you']\n"
          ],
          "name": "stdout"
        }
      ]
    },
    {
      "cell_type": "markdown",
      "metadata": {
        "id": "SjuY1x8RCkH7",
        "colab_type": "text"
      },
      "source": [
        ".\n",
        "\n",
        ".\n",
        "\n",
        "\n",
        ".\n",
        "Saving the words and classes (using pickle)"
      ]
    },
    {
      "cell_type": "code",
      "metadata": {
        "id": "kCCJ0AzOUvw4",
        "colab_type": "code",
        "colab": {}
      },
      "source": [
        "pickle.dump(words,open('words.pkl','wb'))\n",
        "pickle.dump(classes,open('classes.pkl','wb'))"
      ],
      "execution_count": 14,
      "outputs": []
    },
    {
      "cell_type": "markdown",
      "metadata": {
        "id": "-sy5fyxoDRHh",
        "colab_type": "text"
      },
      "source": [
        "###**Creating Training and Testing Data**"
      ]
    },
    {
      "cell_type": "code",
      "metadata": {
        "id": "QUCuxU3UUvuC",
        "colab_type": "code",
        "colab": {}
      },
      "source": [
        "training = []\n",
        "\n",
        "# create an empty array for output\n",
        "output_empty = [0] * len(classes)"
      ],
      "execution_count": 15,
      "outputs": []
    },
    {
      "cell_type": "markdown",
      "metadata": {
        "id": "F97-YjahDkZr",
        "colab_type": "text"
      },
      "source": [
        "Bag of words for every sentence"
      ]
    },
    {
      "cell_type": "code",
      "metadata": {
        "id": "UB_eL4p2Uvr2",
        "colab_type": "code",
        "colab": {}
      },
      "source": [
        "for doc in documents:\n",
        "    # initialize our bag of words\n",
        "    bag = []\n",
        "\n",
        "    # list of tokenized words for the pattern\n",
        "    pattern_words = doc[0]\n",
        "\n",
        "    # lemmatize each word - create base word, in attempt to represent related words\n",
        "    pattern_words = [lemmatizer.lemmatize(word.lower()) for word in pattern_words]\n",
        "\n",
        "    # create our bag of words array with 1, if word match found in current pattern\n",
        "    for w in words:\n",
        "        bag.append(1) if w in pattern_words else bag.append(0)\n",
        "    \n",
        "    # output is a '0' for each tag and '1' for current tag (for each pattern)\n",
        "    \n",
        "    output_row = list(output_empty)\n",
        "    output_row[classes.index(doc[1])] = 1\n",
        "    \n",
        "    training.append([bag, output_row])"
      ],
      "execution_count": 16,
      "outputs": []
    },
    {
      "cell_type": "markdown",
      "metadata": {
        "id": "foCEYiYaEJp8",
        "colab_type": "text"
      },
      "source": [
        "Shuffle Data and Convert to np.array"
      ]
    },
    {
      "cell_type": "code",
      "metadata": {
        "id": "N35pCpBAUvo1",
        "colab_type": "code",
        "colab": {
          "base_uri": "https://localhost:8080/",
          "height": 33
        },
        "outputId": "55428faf-ad9f-4f7c-a52f-75456896f57d"
      },
      "source": [
        "random.shuffle(training)\n",
        "training = np.array(training)\n",
        "\n",
        "# Train and Test lists. \n",
        "# X : patterns, Y : intents\n",
        "\n",
        "train_x = list(training[:,0])\n",
        "train_y = list(training[:,1])\n",
        "print(\"Training data created\")"
      ],
      "execution_count": 17,
      "outputs": [
        {
          "output_type": "stream",
          "text": [
            "Training data created\n"
          ],
          "name": "stdout"
        }
      ]
    },
    {
      "cell_type": "markdown",
      "metadata": {
        "id": "K44tXb9AEeux",
        "colab_type": "text"
      },
      "source": [
        "###**Building Model**"
      ]
    },
    {
      "cell_type": "markdown",
      "metadata": {
        "id": "tfC4VJgqEuTV",
        "colab_type": "text"
      },
      "source": [
        "Model \n",
        "\n",
        "Layer 1 : 128 Neurons\n",
        "\n",
        "Layer 2 : 64 Neurons \n",
        "\n",
        "Layer 3 : Number of Neurons = Number of Intents (Predict output intent for each using softmax)"
      ]
    },
    {
      "cell_type": "code",
      "metadata": {
        "id": "VHoYx1QIUvmR",
        "colab_type": "code",
        "colab": {}
      },
      "source": [
        "model = Sequential()\n",
        "\n",
        "model.add(Dense(128, input_shape=(len(train_x[0]),), activation='relu'))\n",
        "model.add(Dropout(0.5))\n",
        "\n",
        "model.add(Dense(64, activation='relu'))\n",
        "model.add(Dropout(0.5))\n",
        "\n",
        "model.add(Dense(len(train_y[0]), activation='softmax'))"
      ],
      "execution_count": 18,
      "outputs": []
    },
    {
      "cell_type": "markdown",
      "metadata": {
        "id": "Xs56TmBtFgYf",
        "colab_type": "text"
      },
      "source": [
        "###**Compile and Fit Model**"
      ]
    },
    {
      "cell_type": "markdown",
      "metadata": {
        "id": "WFuBe7VUFo_b",
        "colab_type": "text"
      },
      "source": [
        "Using\n",
        "\n",
        "**Stochastic gradient descent with Nesterov accelerated gradient** gives high performance "
      ]
    },
    {
      "cell_type": "code",
      "metadata": {
        "id": "TzGF4DJeUvjn",
        "colab_type": "code",
        "colab": {}
      },
      "source": [
        "sgd = SGD(lr=0.01, decay=1e-6, momentum=0.9, nesterov=True)\n",
        "model.compile(loss='categorical_crossentropy', optimizer=sgd, metrics=['accuracy'])"
      ],
      "execution_count": 19,
      "outputs": []
    },
    {
      "cell_type": "code",
      "metadata": {
        "id": "iMLh0aAyUvgs",
        "colab_type": "code",
        "colab": {
          "base_uri": "https://localhost:8080/",
          "height": 1000
        },
        "outputId": "779662d3-2316-4429-9505-50aaf9e8cf8d"
      },
      "source": [
        "mod = model.fit(np.array(train_x), np.array(train_y), epochs=200, batch_size=5, verbose=1)"
      ],
      "execution_count": 20,
      "outputs": [
        {
          "output_type": "stream",
          "text": [
            "Epoch 1/200\n",
            "42/42 [==============================] - 0s 8ms/step - loss: 2.0809 - accuracy: 0.1905\n",
            "Epoch 2/200\n",
            "42/42 [==============================] - 0s 561us/step - loss: 2.0600 - accuracy: 0.1190\n",
            "Epoch 3/200\n",
            "42/42 [==============================] - 0s 420us/step - loss: 1.9968 - accuracy: 0.1905\n",
            "Epoch 4/200\n",
            "42/42 [==============================] - 0s 567us/step - loss: 1.9023 - accuracy: 0.4762\n",
            "Epoch 5/200\n",
            "42/42 [==============================] - 0s 475us/step - loss: 1.8593 - accuracy: 0.4286\n",
            "Epoch 6/200\n",
            "42/42 [==============================] - 0s 448us/step - loss: 1.7731 - accuracy: 0.4762\n",
            "Epoch 7/200\n",
            "42/42 [==============================] - 0s 459us/step - loss: 1.6635 - accuracy: 0.4762\n",
            "Epoch 8/200\n",
            "42/42 [==============================] - 0s 532us/step - loss: 1.4834 - accuracy: 0.5476\n",
            "Epoch 9/200\n",
            "42/42 [==============================] - 0s 482us/step - loss: 1.3056 - accuracy: 0.5000\n",
            "Epoch 10/200\n",
            "42/42 [==============================] - 0s 493us/step - loss: 1.2940 - accuracy: 0.5952\n",
            "Epoch 11/200\n",
            "42/42 [==============================] - 0s 478us/step - loss: 1.1092 - accuracy: 0.7143\n",
            "Epoch 12/200\n",
            "42/42 [==============================] - 0s 530us/step - loss: 1.1105 - accuracy: 0.5238\n",
            "Epoch 13/200\n",
            "42/42 [==============================] - 0s 535us/step - loss: 0.9306 - accuracy: 0.7143\n",
            "Epoch 14/200\n",
            "42/42 [==============================] - 0s 427us/step - loss: 1.0399 - accuracy: 0.6429\n",
            "Epoch 15/200\n",
            "42/42 [==============================] - 0s 617us/step - loss: 1.0528 - accuracy: 0.6667\n",
            "Epoch 16/200\n",
            "42/42 [==============================] - 0s 427us/step - loss: 0.8869 - accuracy: 0.6429\n",
            "Epoch 17/200\n",
            "42/42 [==============================] - 0s 461us/step - loss: 0.8122 - accuracy: 0.7143\n",
            "Epoch 18/200\n",
            "42/42 [==============================] - 0s 431us/step - loss: 0.7757 - accuracy: 0.7619\n",
            "Epoch 19/200\n",
            "42/42 [==============================] - 0s 405us/step - loss: 0.5211 - accuracy: 0.8810\n",
            "Epoch 20/200\n",
            "42/42 [==============================] - 0s 450us/step - loss: 0.6692 - accuracy: 0.8095\n",
            "Epoch 21/200\n",
            "42/42 [==============================] - 0s 555us/step - loss: 0.6189 - accuracy: 0.7381\n",
            "Epoch 22/200\n",
            "42/42 [==============================] - 0s 528us/step - loss: 0.4865 - accuracy: 0.8571\n",
            "Epoch 23/200\n",
            "42/42 [==============================] - 0s 515us/step - loss: 0.4728 - accuracy: 0.8810\n",
            "Epoch 24/200\n",
            "42/42 [==============================] - 0s 445us/step - loss: 0.4677 - accuracy: 0.8333\n",
            "Epoch 25/200\n",
            "42/42 [==============================] - 0s 401us/step - loss: 0.4456 - accuracy: 0.8810\n",
            "Epoch 26/200\n",
            "42/42 [==============================] - 0s 443us/step - loss: 0.4104 - accuracy: 0.8333\n",
            "Epoch 27/200\n",
            "42/42 [==============================] - 0s 430us/step - loss: 0.4593 - accuracy: 0.8571\n",
            "Epoch 28/200\n",
            "42/42 [==============================] - 0s 399us/step - loss: 0.4748 - accuracy: 0.8571\n",
            "Epoch 29/200\n",
            "42/42 [==============================] - 0s 394us/step - loss: 0.3702 - accuracy: 0.9048\n",
            "Epoch 30/200\n",
            "42/42 [==============================] - 0s 402us/step - loss: 0.3543 - accuracy: 0.8810\n",
            "Epoch 31/200\n",
            "42/42 [==============================] - 0s 397us/step - loss: 0.3269 - accuracy: 0.9524\n",
            "Epoch 32/200\n",
            "42/42 [==============================] - 0s 487us/step - loss: 0.2514 - accuracy: 0.9762\n",
            "Epoch 33/200\n",
            "42/42 [==============================] - 0s 477us/step - loss: 0.2519 - accuracy: 0.9762\n",
            "Epoch 34/200\n",
            "42/42 [==============================] - 0s 557us/step - loss: 0.1325 - accuracy: 1.0000\n",
            "Epoch 35/200\n",
            "42/42 [==============================] - 0s 360us/step - loss: 0.2287 - accuracy: 0.9286\n",
            "Epoch 36/200\n",
            "42/42 [==============================] - 0s 548us/step - loss: 0.2348 - accuracy: 0.9286\n",
            "Epoch 37/200\n",
            "42/42 [==============================] - 0s 484us/step - loss: 0.2945 - accuracy: 0.9048\n",
            "Epoch 38/200\n",
            "42/42 [==============================] - 0s 455us/step - loss: 0.1185 - accuracy: 1.0000\n",
            "Epoch 39/200\n",
            "42/42 [==============================] - 0s 412us/step - loss: 0.1098 - accuracy: 1.0000\n",
            "Epoch 40/200\n",
            "42/42 [==============================] - 0s 415us/step - loss: 0.2579 - accuracy: 0.9286\n",
            "Epoch 41/200\n",
            "42/42 [==============================] - 0s 463us/step - loss: 0.1760 - accuracy: 0.9524\n",
            "Epoch 42/200\n",
            "42/42 [==============================] - 0s 414us/step - loss: 0.1442 - accuracy: 0.9762\n",
            "Epoch 43/200\n",
            "42/42 [==============================] - 0s 415us/step - loss: 0.1604 - accuracy: 1.0000\n",
            "Epoch 44/200\n",
            "42/42 [==============================] - 0s 444us/step - loss: 0.1669 - accuracy: 0.9762\n",
            "Epoch 45/200\n",
            "42/42 [==============================] - 0s 406us/step - loss: 0.1977 - accuracy: 0.9524\n",
            "Epoch 46/200\n",
            "42/42 [==============================] - 0s 380us/step - loss: 0.1460 - accuracy: 0.9524\n",
            "Epoch 47/200\n",
            "42/42 [==============================] - 0s 565us/step - loss: 0.1392 - accuracy: 0.9762\n",
            "Epoch 48/200\n",
            "42/42 [==============================] - 0s 434us/step - loss: 0.2005 - accuracy: 0.9048\n",
            "Epoch 49/200\n",
            "42/42 [==============================] - 0s 492us/step - loss: 0.1299 - accuracy: 0.9524\n",
            "Epoch 50/200\n",
            "42/42 [==============================] - 0s 622us/step - loss: 0.0789 - accuracy: 1.0000\n",
            "Epoch 51/200\n",
            "42/42 [==============================] - 0s 593us/step - loss: 0.2401 - accuracy: 0.9286\n",
            "Epoch 52/200\n",
            "42/42 [==============================] - 0s 613us/step - loss: 0.0764 - accuracy: 1.0000\n",
            "Epoch 53/200\n",
            "42/42 [==============================] - 0s 493us/step - loss: 0.1218 - accuracy: 0.9762\n",
            "Epoch 54/200\n",
            "42/42 [==============================] - 0s 471us/step - loss: 0.0581 - accuracy: 1.0000\n",
            "Epoch 55/200\n",
            "42/42 [==============================] - 0s 433us/step - loss: 0.0749 - accuracy: 1.0000\n",
            "Epoch 56/200\n",
            "42/42 [==============================] - 0s 476us/step - loss: 0.1341 - accuracy: 0.9524\n",
            "Epoch 57/200\n",
            "42/42 [==============================] - 0s 484us/step - loss: 0.0712 - accuracy: 1.0000\n",
            "Epoch 58/200\n",
            "42/42 [==============================] - 0s 441us/step - loss: 0.2229 - accuracy: 0.9286\n",
            "Epoch 59/200\n",
            "42/42 [==============================] - 0s 673us/step - loss: 0.1874 - accuracy: 0.9286\n",
            "Epoch 60/200\n",
            "42/42 [==============================] - 0s 524us/step - loss: 0.1689 - accuracy: 0.9762\n",
            "Epoch 61/200\n",
            "42/42 [==============================] - 0s 526us/step - loss: 0.0685 - accuracy: 1.0000\n",
            "Epoch 62/200\n",
            "42/42 [==============================] - 0s 443us/step - loss: 0.1604 - accuracy: 0.9286\n",
            "Epoch 63/200\n",
            "42/42 [==============================] - 0s 472us/step - loss: 0.1371 - accuracy: 0.9524\n",
            "Epoch 64/200\n",
            "42/42 [==============================] - 0s 487us/step - loss: 0.0799 - accuracy: 0.9762\n",
            "Epoch 65/200\n",
            "42/42 [==============================] - 0s 414us/step - loss: 0.0598 - accuracy: 0.9762\n",
            "Epoch 66/200\n",
            "42/42 [==============================] - 0s 386us/step - loss: 0.0769 - accuracy: 0.9762\n",
            "Epoch 67/200\n",
            "42/42 [==============================] - 0s 508us/step - loss: 0.1009 - accuracy: 0.9762\n",
            "Epoch 68/200\n",
            "42/42 [==============================] - 0s 451us/step - loss: 0.1081 - accuracy: 0.9762\n",
            "Epoch 69/200\n",
            "42/42 [==============================] - 0s 415us/step - loss: 0.0977 - accuracy: 0.9762\n",
            "Epoch 70/200\n",
            "42/42 [==============================] - 0s 495us/step - loss: 0.1839 - accuracy: 0.9524\n",
            "Epoch 71/200\n",
            "42/42 [==============================] - 0s 403us/step - loss: 0.0548 - accuracy: 1.0000\n",
            "Epoch 72/200\n",
            "42/42 [==============================] - 0s 408us/step - loss: 0.0814 - accuracy: 0.9762\n",
            "Epoch 73/200\n",
            "42/42 [==============================] - 0s 555us/step - loss: 0.0361 - accuracy: 1.0000\n",
            "Epoch 74/200\n",
            "42/42 [==============================] - 0s 492us/step - loss: 0.0855 - accuracy: 0.9762\n",
            "Epoch 75/200\n",
            "42/42 [==============================] - 0s 479us/step - loss: 0.0679 - accuracy: 0.9762\n",
            "Epoch 76/200\n",
            "42/42 [==============================] - 0s 475us/step - loss: 0.0676 - accuracy: 1.0000\n",
            "Epoch 77/200\n",
            "42/42 [==============================] - 0s 502us/step - loss: 0.0701 - accuracy: 0.9762\n",
            "Epoch 78/200\n",
            "42/42 [==============================] - 0s 507us/step - loss: 0.1426 - accuracy: 0.9762\n",
            "Epoch 79/200\n",
            "42/42 [==============================] - 0s 495us/step - loss: 0.0511 - accuracy: 1.0000\n",
            "Epoch 80/200\n",
            "42/42 [==============================] - 0s 670us/step - loss: 0.0362 - accuracy: 1.0000\n",
            "Epoch 81/200\n",
            "42/42 [==============================] - 0s 416us/step - loss: 0.0696 - accuracy: 1.0000\n",
            "Epoch 82/200\n",
            "42/42 [==============================] - 0s 397us/step - loss: 0.0629 - accuracy: 0.9762\n",
            "Epoch 83/200\n",
            "42/42 [==============================] - 0s 372us/step - loss: 0.0397 - accuracy: 1.0000\n",
            "Epoch 84/200\n",
            "42/42 [==============================] - 0s 381us/step - loss: 0.0163 - accuracy: 1.0000\n",
            "Epoch 85/200\n",
            "42/42 [==============================] - 0s 403us/step - loss: 0.0155 - accuracy: 1.0000\n",
            "Epoch 86/200\n",
            "42/42 [==============================] - 0s 471us/step - loss: 0.0425 - accuracy: 1.0000\n",
            "Epoch 87/200\n",
            "42/42 [==============================] - 0s 463us/step - loss: 0.0236 - accuracy: 1.0000\n",
            "Epoch 88/200\n",
            "42/42 [==============================] - 0s 406us/step - loss: 0.0542 - accuracy: 1.0000\n",
            "Epoch 89/200\n",
            "42/42 [==============================] - 0s 415us/step - loss: 0.1009 - accuracy: 0.9762\n",
            "Epoch 90/200\n",
            "42/42 [==============================] - 0s 413us/step - loss: 0.0308 - accuracy: 1.0000\n",
            "Epoch 91/200\n",
            "42/42 [==============================] - 0s 455us/step - loss: 0.1050 - accuracy: 0.9524\n",
            "Epoch 92/200\n",
            "42/42 [==============================] - 0s 430us/step - loss: 0.0616 - accuracy: 0.9762\n",
            "Epoch 93/200\n",
            "42/42 [==============================] - 0s 445us/step - loss: 0.0156 - accuracy: 1.0000\n",
            "Epoch 94/200\n",
            "42/42 [==============================] - 0s 463us/step - loss: 0.0157 - accuracy: 1.0000\n",
            "Epoch 95/200\n",
            "42/42 [==============================] - 0s 434us/step - loss: 0.0891 - accuracy: 0.9762\n",
            "Epoch 96/200\n",
            "42/42 [==============================] - 0s 455us/step - loss: 0.0238 - accuracy: 1.0000\n",
            "Epoch 97/200\n",
            "42/42 [==============================] - 0s 486us/step - loss: 0.0331 - accuracy: 1.0000\n",
            "Epoch 98/200\n",
            "42/42 [==============================] - 0s 464us/step - loss: 0.0402 - accuracy: 1.0000\n",
            "Epoch 99/200\n",
            "42/42 [==============================] - 0s 410us/step - loss: 0.0783 - accuracy: 0.9762\n",
            "Epoch 100/200\n",
            "42/42 [==============================] - 0s 462us/step - loss: 0.0370 - accuracy: 1.0000\n",
            "Epoch 101/200\n",
            "42/42 [==============================] - 0s 442us/step - loss: 0.1219 - accuracy: 0.9286\n",
            "Epoch 102/200\n",
            "42/42 [==============================] - 0s 433us/step - loss: 0.0228 - accuracy: 1.0000\n",
            "Epoch 103/200\n",
            "42/42 [==============================] - 0s 424us/step - loss: 0.0210 - accuracy: 1.0000\n",
            "Epoch 104/200\n",
            "42/42 [==============================] - 0s 429us/step - loss: 0.0675 - accuracy: 1.0000\n",
            "Epoch 105/200\n",
            "42/42 [==============================] - 0s 467us/step - loss: 0.0257 - accuracy: 1.0000\n",
            "Epoch 106/200\n",
            "42/42 [==============================] - 0s 440us/step - loss: 0.0138 - accuracy: 1.0000\n",
            "Epoch 107/200\n",
            "42/42 [==============================] - 0s 457us/step - loss: 0.0340 - accuracy: 1.0000\n",
            "Epoch 108/200\n",
            "42/42 [==============================] - 0s 417us/step - loss: 0.0671 - accuracy: 1.0000\n",
            "Epoch 109/200\n",
            "42/42 [==============================] - 0s 416us/step - loss: 0.1071 - accuracy: 0.9762\n",
            "Epoch 110/200\n",
            "42/42 [==============================] - 0s 433us/step - loss: 0.0555 - accuracy: 0.9762\n",
            "Epoch 111/200\n",
            "42/42 [==============================] - 0s 427us/step - loss: 0.0642 - accuracy: 0.9762\n",
            "Epoch 112/200\n",
            "42/42 [==============================] - 0s 439us/step - loss: 0.0641 - accuracy: 1.0000\n",
            "Epoch 113/200\n",
            "42/42 [==============================] - 0s 485us/step - loss: 0.0314 - accuracy: 1.0000\n",
            "Epoch 114/200\n",
            "42/42 [==============================] - 0s 472us/step - loss: 0.0438 - accuracy: 0.9762\n",
            "Epoch 115/200\n",
            "42/42 [==============================] - 0s 388us/step - loss: 0.0604 - accuracy: 0.9762\n",
            "Epoch 116/200\n",
            "42/42 [==============================] - 0s 503us/step - loss: 0.0251 - accuracy: 1.0000\n",
            "Epoch 117/200\n",
            "42/42 [==============================] - 0s 447us/step - loss: 0.0119 - accuracy: 1.0000\n",
            "Epoch 118/200\n",
            "42/42 [==============================] - 0s 416us/step - loss: 0.0451 - accuracy: 1.0000\n",
            "Epoch 119/200\n",
            "42/42 [==============================] - 0s 410us/step - loss: 0.0780 - accuracy: 0.9762\n",
            "Epoch 120/200\n",
            "42/42 [==============================] - 0s 434us/step - loss: 0.0221 - accuracy: 1.0000\n",
            "Epoch 121/200\n",
            "42/42 [==============================] - 0s 466us/step - loss: 0.1399 - accuracy: 0.9286\n",
            "Epoch 122/200\n",
            "42/42 [==============================] - 0s 421us/step - loss: 0.0428 - accuracy: 0.9762\n",
            "Epoch 123/200\n",
            "42/42 [==============================] - 0s 425us/step - loss: 0.0340 - accuracy: 1.0000\n",
            "Epoch 124/200\n",
            "42/42 [==============================] - 0s 440us/step - loss: 0.0174 - accuracy: 1.0000\n",
            "Epoch 125/200\n",
            "42/42 [==============================] - 0s 545us/step - loss: 0.0980 - accuracy: 0.9762\n",
            "Epoch 126/200\n",
            "42/42 [==============================] - 0s 538us/step - loss: 0.0110 - accuracy: 1.0000\n",
            "Epoch 127/200\n",
            "42/42 [==============================] - 0s 434us/step - loss: 0.0291 - accuracy: 1.0000\n",
            "Epoch 128/200\n",
            "42/42 [==============================] - 0s 432us/step - loss: 0.0440 - accuracy: 1.0000\n",
            "Epoch 129/200\n",
            "42/42 [==============================] - 0s 431us/step - loss: 0.0244 - accuracy: 1.0000\n",
            "Epoch 130/200\n",
            "42/42 [==============================] - 0s 635us/step - loss: 0.0160 - accuracy: 1.0000\n",
            "Epoch 131/200\n",
            "42/42 [==============================] - 0s 397us/step - loss: 0.0144 - accuracy: 1.0000\n",
            "Epoch 132/200\n",
            "42/42 [==============================] - 0s 684us/step - loss: 0.0322 - accuracy: 0.9762\n",
            "Epoch 133/200\n",
            "42/42 [==============================] - 0s 417us/step - loss: 0.0374 - accuracy: 1.0000\n",
            "Epoch 134/200\n",
            "42/42 [==============================] - 0s 417us/step - loss: 0.0844 - accuracy: 0.9762\n",
            "Epoch 135/200\n",
            "42/42 [==============================] - 0s 457us/step - loss: 0.0319 - accuracy: 1.0000\n",
            "Epoch 136/200\n",
            "42/42 [==============================] - 0s 457us/step - loss: 0.0137 - accuracy: 1.0000\n",
            "Epoch 137/200\n",
            "42/42 [==============================] - 0s 398us/step - loss: 0.1226 - accuracy: 0.9524\n",
            "Epoch 138/200\n",
            "42/42 [==============================] - 0s 408us/step - loss: 0.0388 - accuracy: 1.0000\n",
            "Epoch 139/200\n",
            "42/42 [==============================] - 0s 701us/step - loss: 0.0311 - accuracy: 1.0000\n",
            "Epoch 140/200\n",
            "42/42 [==============================] - 0s 592us/step - loss: 0.0339 - accuracy: 0.9762\n",
            "Epoch 141/200\n",
            "42/42 [==============================] - 0s 475us/step - loss: 0.0330 - accuracy: 1.0000\n",
            "Epoch 142/200\n",
            "42/42 [==============================] - 0s 532us/step - loss: 0.0154 - accuracy: 1.0000\n",
            "Epoch 143/200\n",
            "42/42 [==============================] - 0s 418us/step - loss: 0.0133 - accuracy: 1.0000\n",
            "Epoch 144/200\n",
            "42/42 [==============================] - 0s 407us/step - loss: 0.0379 - accuracy: 0.9762\n",
            "Epoch 145/200\n",
            "42/42 [==============================] - 0s 578us/step - loss: 0.0485 - accuracy: 1.0000\n",
            "Epoch 146/200\n",
            "42/42 [==============================] - 0s 434us/step - loss: 0.0276 - accuracy: 1.0000\n",
            "Epoch 147/200\n",
            "42/42 [==============================] - 0s 424us/step - loss: 0.0194 - accuracy: 1.0000\n",
            "Epoch 148/200\n",
            "42/42 [==============================] - 0s 402us/step - loss: 0.0404 - accuracy: 1.0000\n",
            "Epoch 149/200\n",
            "42/42 [==============================] - 0s 499us/step - loss: 0.0035 - accuracy: 1.0000\n",
            "Epoch 150/200\n",
            "42/42 [==============================] - 0s 429us/step - loss: 0.0304 - accuracy: 1.0000\n",
            "Epoch 151/200\n",
            "42/42 [==============================] - 0s 413us/step - loss: 0.0107 - accuracy: 1.0000\n",
            "Epoch 152/200\n",
            "42/42 [==============================] - 0s 433us/step - loss: 0.0607 - accuracy: 0.9762\n",
            "Epoch 153/200\n",
            "42/42 [==============================] - 0s 424us/step - loss: 0.0078 - accuracy: 1.0000\n",
            "Epoch 154/200\n",
            "42/42 [==============================] - 0s 396us/step - loss: 0.0121 - accuracy: 1.0000\n",
            "Epoch 155/200\n",
            "42/42 [==============================] - 0s 507us/step - loss: 0.0243 - accuracy: 1.0000\n",
            "Epoch 156/200\n",
            "42/42 [==============================] - 0s 474us/step - loss: 0.0482 - accuracy: 0.9762\n",
            "Epoch 157/200\n",
            "42/42 [==============================] - 0s 360us/step - loss: 0.0137 - accuracy: 1.0000\n",
            "Epoch 158/200\n",
            "42/42 [==============================] - 0s 468us/step - loss: 0.0996 - accuracy: 0.9762\n",
            "Epoch 159/200\n",
            "42/42 [==============================] - 0s 418us/step - loss: 0.0096 - accuracy: 1.0000\n",
            "Epoch 160/200\n",
            "42/42 [==============================] - 0s 472us/step - loss: 0.0310 - accuracy: 0.9762\n",
            "Epoch 161/200\n",
            "42/42 [==============================] - 0s 412us/step - loss: 0.0071 - accuracy: 1.0000\n",
            "Epoch 162/200\n",
            "42/42 [==============================] - 0s 429us/step - loss: 0.0456 - accuracy: 1.0000\n",
            "Epoch 163/200\n",
            "42/42 [==============================] - 0s 450us/step - loss: 0.0301 - accuracy: 1.0000\n",
            "Epoch 164/200\n",
            "42/42 [==============================] - 0s 438us/step - loss: 0.0124 - accuracy: 1.0000\n",
            "Epoch 165/200\n",
            "42/42 [==============================] - 0s 427us/step - loss: 0.0557 - accuracy: 0.9524\n",
            "Epoch 166/200\n",
            "42/42 [==============================] - 0s 403us/step - loss: 0.0685 - accuracy: 0.9524\n",
            "Epoch 167/200\n",
            "42/42 [==============================] - 0s 447us/step - loss: 0.0536 - accuracy: 0.9762\n",
            "Epoch 168/200\n",
            "42/42 [==============================] - 0s 456us/step - loss: 0.0369 - accuracy: 0.9762\n",
            "Epoch 169/200\n",
            "42/42 [==============================] - 0s 592us/step - loss: 0.0405 - accuracy: 1.0000\n",
            "Epoch 170/200\n",
            "42/42 [==============================] - 0s 398us/step - loss: 0.0330 - accuracy: 1.0000\n",
            "Epoch 171/200\n",
            "42/42 [==============================] - 0s 386us/step - loss: 0.0116 - accuracy: 1.0000\n",
            "Epoch 172/200\n",
            "42/42 [==============================] - 0s 491us/step - loss: 0.0408 - accuracy: 0.9762\n",
            "Epoch 173/200\n",
            "42/42 [==============================] - 0s 450us/step - loss: 0.0083 - accuracy: 1.0000\n",
            "Epoch 174/200\n",
            "42/42 [==============================] - 0s 443us/step - loss: 0.0033 - accuracy: 1.0000\n",
            "Epoch 175/200\n",
            "42/42 [==============================] - 0s 371us/step - loss: 0.0139 - accuracy: 1.0000\n",
            "Epoch 176/200\n",
            "42/42 [==============================] - 0s 449us/step - loss: 0.0237 - accuracy: 1.0000\n",
            "Epoch 177/200\n",
            "42/42 [==============================] - 0s 389us/step - loss: 0.0201 - accuracy: 1.0000\n",
            "Epoch 178/200\n",
            "42/42 [==============================] - 0s 668us/step - loss: 0.0544 - accuracy: 1.0000\n",
            "Epoch 179/200\n",
            "42/42 [==============================] - 0s 419us/step - loss: 0.0968 - accuracy: 0.9762\n",
            "Epoch 180/200\n",
            "42/42 [==============================] - 0s 409us/step - loss: 0.0459 - accuracy: 1.0000\n",
            "Epoch 181/200\n",
            "42/42 [==============================] - 0s 415us/step - loss: 0.0081 - accuracy: 1.0000\n",
            "Epoch 182/200\n",
            "42/42 [==============================] - 0s 582us/step - loss: 0.0178 - accuracy: 1.0000\n",
            "Epoch 183/200\n",
            "42/42 [==============================] - 0s 459us/step - loss: 0.0691 - accuracy: 0.9762\n",
            "Epoch 184/200\n",
            "42/42 [==============================] - 0s 452us/step - loss: 0.0318 - accuracy: 1.0000\n",
            "Epoch 185/200\n",
            "42/42 [==============================] - 0s 428us/step - loss: 0.0804 - accuracy: 0.9762\n",
            "Epoch 186/200\n",
            "42/42 [==============================] - 0s 381us/step - loss: 0.0324 - accuracy: 0.9762\n",
            "Epoch 187/200\n",
            "42/42 [==============================] - 0s 388us/step - loss: 0.0166 - accuracy: 1.0000\n",
            "Epoch 188/200\n",
            "42/42 [==============================] - 0s 421us/step - loss: 0.0324 - accuracy: 0.9762\n",
            "Epoch 189/200\n",
            "42/42 [==============================] - 0s 532us/step - loss: 0.0437 - accuracy: 0.9762\n",
            "Epoch 190/200\n",
            "42/42 [==============================] - 0s 451us/step - loss: 0.0079 - accuracy: 1.0000\n",
            "Epoch 191/200\n",
            "42/42 [==============================] - 0s 375us/step - loss: 0.0075 - accuracy: 1.0000\n",
            "Epoch 192/200\n",
            "42/42 [==============================] - 0s 381us/step - loss: 0.0275 - accuracy: 1.0000\n",
            "Epoch 193/200\n",
            "42/42 [==============================] - 0s 457us/step - loss: 0.0303 - accuracy: 1.0000\n",
            "Epoch 194/200\n",
            "42/42 [==============================] - 0s 423us/step - loss: 0.0074 - accuracy: 1.0000\n",
            "Epoch 195/200\n",
            "42/42 [==============================] - 0s 437us/step - loss: 0.0745 - accuracy: 0.9762\n",
            "Epoch 196/200\n",
            "42/42 [==============================] - 0s 410us/step - loss: 0.0364 - accuracy: 0.9762\n",
            "Epoch 197/200\n",
            "42/42 [==============================] - 0s 580us/step - loss: 0.0230 - accuracy: 1.0000\n",
            "Epoch 198/200\n",
            "42/42 [==============================] - 0s 410us/step - loss: 0.0206 - accuracy: 1.0000\n",
            "Epoch 199/200\n",
            "42/42 [==============================] - 0s 386us/step - loss: 0.0143 - accuracy: 1.0000\n",
            "Epoch 200/200\n",
            "42/42 [==============================] - 0s 376us/step - loss: 0.0576 - accuracy: 0.9762\n"
          ],
          "name": "stdout"
        }
      ]
    },
    {
      "cell_type": "markdown",
      "metadata": {
        "id": "-gqhuZgNHbGu",
        "colab_type": "text"
      },
      "source": [
        "###**Save Model**"
      ]
    },
    {
      "cell_type": "code",
      "metadata": {
        "id": "4Ss_45LUHblk",
        "colab_type": "code",
        "colab": {
          "base_uri": "https://localhost:8080/",
          "height": 33
        },
        "outputId": "8036dfe9-a80f-4c89-e8bb-9a8920ca3650"
      },
      "source": [
        "model.save('chatbot_final_model.h5', mod)\n",
        "print(\"model created\")"
      ],
      "execution_count": 21,
      "outputs": [
        {
          "output_type": "stream",
          "text": [
            "model created\n"
          ],
          "name": "stdout"
        }
      ]
    },
    {
      "cell_type": "code",
      "metadata": {
        "id": "EcIOWydYH3iR",
        "colab_type": "code",
        "colab": {}
      },
      "source": [
        ""
      ],
      "execution_count": 21,
      "outputs": []
    }
  ]
}